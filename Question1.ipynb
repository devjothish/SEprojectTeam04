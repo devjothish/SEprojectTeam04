{
 "cells": [
  {
   "cell_type": "code",
   "execution_count": null,
   "metadata": {},
   "outputs": [],
   "source": [
    "import json\n",
    "import re\n",
    "\n",
    "def load_json(json_file_path):\n",
    "    \"\"\"Load JSON data from a file.\"\"\"\n",
    "    with open(json_file_path, 'r') as file:\n",
    "        data = json.load(file)\n",
    "    return data\n",
    "\n",
    "def preprocess_and_clean(json_data):\n",
    "    # Define a function to clean text\n",
    "    def clean_text(text):\n",
    "        if text is not None:\n",
    "            # Remove Unicode escape sequences\n",
    "            cleaned_text = text.encode('utf-8').decode('unicode-escape')\n",
    "            # Remove emoji symbols\n",
    "            cleaned_text = cleaned_text.encode('ascii', 'ignore').decode('ascii')\n",
    "            # Remove extra whitespaces\n",
    "            cleaned_text = re.sub(r'\\s+', ' ', cleaned_text).strip()\n",
    "            return cleaned_text\n",
    "        return None\n",
    "    \n",
    "def AvgPromptCount(json_file_path_pr, json_file_path_issue):\n",
    "    \"\"\"Calculate and plot the average prompt counts for open and closed states.\"\"\"\n",
    "\n",
    "    data_pr = load_json(json_file_path_pr)\n",
    "    cleaned_data_pr = preprocess_and_clean(data_pr)\n",
    "\n",
    "    data_issue = load_json(json_file_path_issue)\n",
    "    cleaned_data_issue = preprocess_and_clean(data_issue)\n",
    "\n",
    "json_file_path_pr = 'Snapshots/20230831_060603_pr_sharings.json'\n",
    "json_file_path_issue = 'Snapshots/20230831_061759_issue_sharings.json'\n",
    "\n",
    "AvgPromptCount(json_file_path_pr, json_file_path_issue)"
   ]
  }
 ],
 "metadata": {
  "language_info": {
   "name": "python"
  }
 },
 "nbformat": 4,
 "nbformat_minor": 2
}
