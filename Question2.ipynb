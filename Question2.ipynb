{
 "cells": [
  {
   "cell_type": "code",
   "execution_count": 2,
   "metadata": {},
   "outputs": [],
   "source": [
    "import json\n",
    "\n",
    "def load_json(json_file_path):\n",
    "    \"\"\"Load JSON data from a file.\"\"\"\n",
    "    with open(json_file_path, 'r') as file:\n",
    "        data = json.load(file)\n",
    "    return data\n",
    "\n",
    "def preprocess_data(issue_data):\n",
    "    \"\"\"Clean and preprocess issue data.\"\"\"\n",
    "    for issue in issue_data[\"Sources\"]:\n",
    "        issue[\"RepoLanguage\"] = clean_text(issue.get(\"RepoLanguage\"))\n",
    "        issue[\"State\"] = clean_text(issue.get(\"State\"))\n",
    "    return issue_data\n",
    "\n",
    "def clean_text(text):\n",
    "    \"\"\"Clean text by removing unwanted characters.\"\"\"\n",
    "    if text is not None:\n",
    "        cleaned_text = text.encode('utf-8').decode('unicode-escape')\n",
    "        return cleaned_text\n",
    "    return None\n",
    "\n",
    "json_file_path = 'Snapshots/20230831_061759_issue_sharings.json'\n",
    "issue_data = load_json(json_file_path)\n",
    "\n",
    "# Preprocess data\n",
    "preprocessed_data = preprocess_data(issue_data)\n"
   ]
  }
 ],
 "metadata": {
  "kernelspec": {
   "display_name": "Python 3",
   "language": "python",
   "name": "python3"
  },
  "language_info": {
   "codemirror_mode": {
    "name": "ipython",
    "version": 3
   },
   "file_extension": ".py",
   "mimetype": "text/x-python",
   "name": "python",
   "nbconvert_exporter": "python",
   "pygments_lexer": "ipython3",
   "version": "3.9.6"
  }
 },
 "nbformat": 4,
 "nbformat_minor": 2
}
